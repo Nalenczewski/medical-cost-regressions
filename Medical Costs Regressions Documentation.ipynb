{
 "cells": [
  {
   "cell_type": "markdown",
   "id": "0cdfb49c",
   "metadata": {},
   "source": [
    "![](./README_files/medical.jpg)"
   ]
  },
  {
   "cell_type": "markdown",
   "id": "65aff046",
   "metadata": {},
   "source": [
    "# Medical Cost Regressions\n",
    "## Contents\n",
    "1. **Introduction**\n",
    "2. **My Approach**\n",
    "3. **Findings**\n",
    "4. **Ideas for Further Research**\n",
    "5. **Recommendations**"
   ]
  },
  {
   "cell_type": "markdown",
   "id": "ea0ae6af",
   "metadata": {},
   "source": [
    "## 1. Introduction\n",
    "Today, medical costs are skyrocketing. Measures must be taken to decrease the financial burden on patients and their families. Through analyzing medical data, it is hoped that ways of cutting costs may be found.\n",
    "\n",
    "**About the Dataset**\n",
    "\n",
    "The data in this analysis comes from the public domain. It contains the below variables.\n",
    "\n",
    "* Age: the age of the patient.\n",
    "* Sex: the gender of the patient.\n",
    "* BMI: the patient's body mass index.\n",
    "* Children: the number of the patient's children.\n",
    "* Smoker: whether the patient is a smoker or not.\n",
    "* Region: the patient's U.S. residential area.\n",
    "* Charges: the pateint's medical costs."
   ]
  },
  {
   "cell_type": "markdown",
   "id": "8cf236fe",
   "metadata": {},
   "source": [
    "## 2. My Approach"
   ]
  },
  {
   "cell_type": "markdown",
   "id": "0317477a",
   "metadata": {},
   "source": [
    "**Exploratory Data Analysis**\n",
    "\n",
    "I first conducted EDA in order to derive insights from the data. I looked at basic things, such as the cardinality of each variable, the number of unique values of each variable, a heatmap showing correlations between variables, and a detailed look at the correlated variables.\n",
    "\n",
    "**Machine Learning**\n",
    "\n",
    "I first created X and y variables by making Charges the target variable. I then pre-processed the numerical data (BMI and age) using Min Max Scaler and Standard Scaler to compare performance. Then I applied several different regression models: linear, lasso, and ridge regression, decision tree and random forest, AdaBoost decision tree, and support vector machine. I then compared the results to determine the optimal model."
   ]
  },
  {
   "cell_type": "markdown",
   "id": "77cee5c1",
   "metadata": {},
   "source": [
    "## 3. Findings"
   ]
  },
  {
   "cell_type": "markdown",
   "id": "14d5326a",
   "metadata": {},
   "source": [
    "**Exploratory Data Analysis**\n",
    "\n",
    "There was no missing data and were no outliers. The only variables that were corrolated were charges with smoking (smokers had higher charges). Smokers made up for more than half of the charges above $15,000.\n",
    "\n",
    "**Machine Learning**\n",
    "\n",
    "The results of the best performing model of each type are below. Random Forest with max depth of 3 and 400 estimators performed the best."
   ]
  },
  {
   "cell_type": "code",
   "execution_count": 2,
   "id": "0a1bd292",
   "metadata": {},
   "outputs": [
    {
     "data": {
      "text/html": [
       "<div>\n",
       "<style scoped>\n",
       "    .dataframe tbody tr th:only-of-type {\n",
       "        vertical-align: middle;\n",
       "    }\n",
       "\n",
       "    .dataframe tbody tr th {\n",
       "        vertical-align: top;\n",
       "    }\n",
       "\n",
       "    .dataframe thead th {\n",
       "        text-align: right;\n",
       "    }\n",
       "</style>\n",
       "<table border=\"1\" class=\"dataframe\">\n",
       "  <thead>\n",
       "    <tr style=\"text-align: right;\">\n",
       "      <th></th>\n",
       "      <th>Training R2</th>\n",
       "      <th>Test R2</th>\n",
       "      <th>Training RMSE</th>\n",
       "      <th>Test RMSE</th>\n",
       "    </tr>\n",
       "    <tr>\n",
       "      <th>Model</th>\n",
       "      <th></th>\n",
       "      <th></th>\n",
       "      <th></th>\n",
       "      <th></th>\n",
       "    </tr>\n",
       "  </thead>\n",
       "  <tbody>\n",
       "    <tr>\n",
       "      <th>Linear Regression</th>\n",
       "      <td>0.756279</td>\n",
       "      <td>0.734275</td>\n",
       "      <td>6055.905613</td>\n",
       "      <td>5978.637219</td>\n",
       "    </tr>\n",
       "    <tr>\n",
       "      <th>Decision Tree</th>\n",
       "      <td>0.860714</td>\n",
       "      <td>0.836862</td>\n",
       "      <td>4578.104656</td>\n",
       "      <td>4684.505601</td>\n",
       "    </tr>\n",
       "    <tr>\n",
       "      <th>Random Forest</th>\n",
       "      <td>0.865829</td>\n",
       "      <td>0.845451</td>\n",
       "      <td>4493.268535</td>\n",
       "      <td>4559.522879</td>\n",
       "    </tr>\n",
       "    <tr>\n",
       "      <th>Support Vector Machine</th>\n",
       "      <td>-0.099704</td>\n",
       "      <td>-0.080650</td>\n",
       "      <td>12863.832512</td>\n",
       "      <td>12056.701488</td>\n",
       "    </tr>\n",
       "    <tr>\n",
       "      <th>AdaBoost</th>\n",
       "      <td>0.863211</td>\n",
       "      <td>0.840023</td>\n",
       "      <td>4536.886634</td>\n",
       "      <td>4638.898958</td>\n",
       "    </tr>\n",
       "  </tbody>\n",
       "</table>\n",
       "</div>"
      ],
      "text/plain": [
       "                        Training R2   Test R2  Training RMSE     Test RMSE\n",
       "Model                                                                     \n",
       "Linear Regression          0.756279  0.734275    6055.905613   5978.637219\n",
       "Decision Tree              0.860714  0.836862    4578.104656   4684.505601\n",
       "Random Forest              0.865829  0.845451    4493.268535   4559.522879\n",
       "Support Vector Machine    -0.099704 -0.080650   12863.832512  12056.701488\n",
       "AdaBoost                   0.863211  0.840023    4536.886634   4638.898958"
      ]
     },
     "execution_count": 2,
     "metadata": {},
     "output_type": "execute_result"
    }
   ],
   "source": [
    "%store -r final_results\n",
    "final_results"
   ]
  },
  {
   "cell_type": "markdown",
   "id": "f5c1065c",
   "metadata": {},
   "source": [
    "## 4. Ideas for Further Research"
   ]
  },
  {
   "cell_type": "markdown",
   "id": "25186345",
   "metadata": {},
   "source": [
    "* Try to gather more data and see if there are any other major predictors of charges."
   ]
  },
  {
   "cell_type": "markdown",
   "id": "8b381bc3",
   "metadata": {},
   "source": [
    "## 5. Recommendations"
   ]
  },
  {
   "cell_type": "markdown",
   "id": "c7a49f17",
   "metadata": {},
   "source": [
    "* Consider having people who smoke pay higher premiums and lower the premiums of non-smokers. \n",
    "* Consider letting people with lower BMI and age pay less for health insurance."
   ]
  }
 ],
 "metadata": {
  "kernelspec": {
   "display_name": "Python 3",
   "language": "python",
   "name": "python3"
  },
  "language_info": {
   "codemirror_mode": {
    "name": "ipython",
    "version": 3
   },
   "file_extension": ".py",
   "mimetype": "text/x-python",
   "name": "python",
   "nbconvert_exporter": "python",
   "pygments_lexer": "ipython3",
   "version": "3.8.8"
  }
 },
 "nbformat": 4,
 "nbformat_minor": 5
}
