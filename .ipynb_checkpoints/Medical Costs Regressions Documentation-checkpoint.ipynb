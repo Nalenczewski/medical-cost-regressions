{
 "cells": [
  {
   "cell_type": "markdown",
   "id": "3321949b",
   "metadata": {},
   "source": [
    "![](./README_files/medical.jpg)"
   ]
  },
  {
   "cell_type": "markdown",
   "id": "0c3a97d7",
   "metadata": {},
   "source": [
    "# Medical Costs Regressions\n",
    "## Contents\n",
    "1. **Introduction**\n",
    "2. **My Approach**\n",
    "3. **Findings**\n",
    "4. **Ideas for Further Research**\n",
    "5. **Recommendations**"
   ]
  },
  {
   "cell_type": "markdown",
   "id": "ce700a06",
   "metadata": {},
   "source": [
    "## 1. Introduction\n",
    "Today, medical costs are skyrocketing. Measures must be taken to decrease the financial burden on patients and their families. Through analyzing medical data, it is hoped that ways of cutting costs may be found.\n",
    "\n",
    "**About the Dataset**\n",
    "\n",
    "The data in this analysis comes from the public domain. It contains the below variables.\n",
    "\n",
    "* Age: the age of the patient.\n",
    "* Sex: the gender of the patient.\n",
    "* BMI: the patient's body mass index.\n",
    "* Children: the number of the patient's children.\n",
    "* Smoker: whether the patient is a smoker or not.\n",
    "* Region: the patient's U.S. residential area.\n",
    "* Charges: the pateint's medical costs."
   ]
  },
  {
   "cell_type": "markdown",
   "id": "19c5eddc",
   "metadata": {},
   "source": [
    "## 2. My Approach"
   ]
  },
  {
   "cell_type": "markdown",
   "id": "1bd1845d",
   "metadata": {},
   "source": [
    "**Exploratory Data Analysis**\n",
    "\n",
    "I first conducted EDA in order to derive insights from the data. I looked at basic things, such as the cardinality of each variable, the number of unique values of each variable, a heatmap showing correlations between variables, and a detailed look at the correlated variables.\n",
    "\n",
    "**Machine Learning**\n",
    "\n",
    "I first created X and y variables by making Charges the target variable. I then pre-processed the numerical data (BMI and age) using Min Max Scaler and Standard Scaler to compare performance. Then I applied several different regression models: linear, lasso, and ridge regression, decision tree and random forest, AdaBoost decision tree, and support vector machine. I then compared the results to determine the optimal model."
   ]
  },
  {
   "cell_type": "markdown",
   "id": "3878fe3b",
   "metadata": {},
   "source": [
    "## 3. Findings"
   ]
  },
  {
   "cell_type": "markdown",
   "id": "d1447afd",
   "metadata": {},
   "source": [
    "**Exploratory Data Analysis**\n",
    "\n",
    "There was no missing data and were no outliers. The only variables that were corrolated were charges with smoking (smokers had higher charges). Smokers made up for more than half of the charges above $15,000.\n",
    "\n",
    "**Machine Learning**\n",
    "\n"
   ]
  },
  {
   "cell_type": "markdown",
   "id": "0c94d77e",
   "metadata": {},
   "source": [
    "## 4. Ideas for Further Research"
   ]
  },
  {
   "cell_type": "code",
   "execution_count": null,
   "id": "d9d44f8a",
   "metadata": {},
   "outputs": [],
   "source": []
  },
  {
   "cell_type": "markdown",
   "id": "c13fa183",
   "metadata": {},
   "source": [
    "## 5. Recommendations"
   ]
  },
  {
   "cell_type": "code",
   "execution_count": null,
   "id": "1cd7e2fb",
   "metadata": {},
   "outputs": [],
   "source": []
  }
 ],
 "metadata": {
  "kernelspec": {
   "display_name": "Python 3",
   "language": "python",
   "name": "python3"
  },
  "language_info": {
   "codemirror_mode": {
    "name": "ipython",
    "version": 3
   },
   "file_extension": ".py",
   "mimetype": "text/x-python",
   "name": "python",
   "nbconvert_exporter": "python",
   "pygments_lexer": "ipython3",
   "version": "3.8.8"
  }
 },
 "nbformat": 4,
 "nbformat_minor": 5
}
