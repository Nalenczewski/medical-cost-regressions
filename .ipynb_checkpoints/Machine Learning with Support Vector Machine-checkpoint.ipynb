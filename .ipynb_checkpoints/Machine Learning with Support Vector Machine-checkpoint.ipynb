{
 "cells": [
  {
   "cell_type": "markdown",
   "id": "c125b76c",
   "metadata": {},
   "source": [
    "# Machine Learning with Support Vector Machine\n",
    "\n",
    "Now I will train a regression model using support vector machine."
   ]
  },
  {
   "cell_type": "code",
   "execution_count": 1,
   "id": "a23b9267",
   "metadata": {},
   "outputs": [],
   "source": [
    "import numpy as np\n",
    "import pandas as pd\n",
    "from sklearn.model_selection import train_test_split\n",
    "from sklearn.svm import SVR\n",
    "from sklearn.metrics import mean_squared_error"
   ]
  },
  {
   "cell_type": "code",
   "execution_count": 2,
   "id": "e666ad16",
   "metadata": {},
   "outputs": [],
   "source": [
    "# Bring in the data\n",
    "%store -r X\n",
    "%store -r y"
   ]
  },
  {
   "cell_type": "code",
   "execution_count": 3,
   "id": "7a4bf658",
   "metadata": {},
   "outputs": [],
   "source": [
    "# Split the data into training and test sets\n",
    "X_train, X_test, y_train, y_test = train_test_split(X, y, test_size = 0.25, random_state = 1)"
   ]
  },
  {
   "cell_type": "markdown",
   "id": "d9972fb6",
   "metadata": {},
   "source": [
    "### Support Vector Regressor"
   ]
  },
  {
   "cell_type": "code",
   "execution_count": 4,
   "id": "b27c5cad",
   "metadata": {},
   "outputs": [],
   "source": [
    "# Define a support vector regressor function that can take different \n",
    "# kernel, degree, gamma, coef0, and C and output R squared and RMSE.\n",
    "def svr_R2_RMSE(kernel, degree, gamma, coef0, C):\n",
    "    data = []\n",
    "    for k in kernel:\n",
    "        for d in degree:\n",
    "            for g in gamma:\n",
    "                for c in coef0:\n",
    "                    for small_c in C:\n",
    "                        model = SVR(kernel=k, degree=d, gamma=g, coef0=c, C=small_c)\n",
    "                        model.fit(X_train, y_train)\n",
    "    \n",
    "                        model_r2_train = model.score(X_train, y_train)\n",
    "                        model_r2_test = model.score(X_test, y_test)\n",
    "    \n",
    "                        model_y_pred_train = model.predict(X_train)\n",
    "                        model_y_pred_test = model.predict(X_test)\n",
    "                        model_RMSE_train = np.sqrt(mean_squared_error(y_train, model_y_pred_train))\n",
    "                        model_RMSE_test = np.sqrt(mean_squared_error(y_test, model_y_pred_test))\n",
    "    \n",
    "                        data.append([k, d, g, c, small_c, model_r2_train, model_r2_test, model_RMSE_train, model_RMSE_test])\n",
    "            \n",
    "    table = pd.DataFrame(data, columns = ['Kernel', 'Degree','Gamma','Coeficient', 'C', 'Training R2', 'Test R2', 'Training RMSE', 'Test RMSE'])\n",
    "    \n",
    "    return table"
   ]
  },
  {
   "cell_type": "code",
   "execution_count": null,
   "id": "18d9d1c4",
   "metadata": {},
   "outputs": [],
   "source": [
    "kernel = ['linear', 'poly', 'rbf', 'sigmoid']\n",
    "degree = [3]\n",
    "gamma = [1]\n",
    "coef0=[0]\n",
    "C=[1.0]\n",
    "\n",
    "svr_R2_RMSE(kernel, degree, gamma, coef0, C)"
   ]
  },
  {
   "cell_type": "markdown",
   "id": "bd8983d9",
   "metadata": {},
   "source": [
    "The choice in kernel seems arbitrary at this point."
   ]
  },
  {
   "cell_type": "code",
   "execution_count": null,
   "id": "76fa0378",
   "metadata": {
    "scrolled": true
   },
   "outputs": [],
   "source": [
    "kernel = ['rbf']\n",
    "degree = [3]\n",
    "gamma = [1]\n",
    "coef0=[0]\n",
    "C=[0.001, 0.01, 0.1, 1.0, 10]\n",
    "\n",
    "svr_R2_RMSE(kernel, degree, gamma, coef0, C)"
   ]
  },
  {
   "cell_type": "code",
   "execution_count": null,
   "id": "1db2724f",
   "metadata": {
    "scrolled": true
   },
   "outputs": [],
   "source": [
    "kernel = ['poly']\n",
    "degree = [2,3,4]\n",
    "gamma = [1]\n",
    "coef0 = [0,1,2]\n",
    "C=[1]\n",
    "\n",
    "svr_R2_RMSE(kernel, degree, gamma, coef0, C)"
   ]
  },
  {
   "cell_type": "code",
   "execution_count": null,
   "id": "97c94004",
   "metadata": {},
   "outputs": [],
   "source": []
  }
 ],
 "metadata": {
  "kernelspec": {
   "display_name": "Python 3",
   "language": "python",
   "name": "python3"
  },
  "language_info": {
   "codemirror_mode": {
    "name": "ipython",
    "version": 3
   },
   "file_extension": ".py",
   "mimetype": "text/x-python",
   "name": "python",
   "nbconvert_exporter": "python",
   "pygments_lexer": "ipython3",
   "version": "3.8.8"
  }
 },
 "nbformat": 4,
 "nbformat_minor": 5
}
