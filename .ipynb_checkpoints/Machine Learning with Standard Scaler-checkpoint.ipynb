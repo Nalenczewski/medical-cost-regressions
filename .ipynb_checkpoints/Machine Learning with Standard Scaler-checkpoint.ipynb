{
 "cells": [
  {
   "cell_type": "markdown",
   "id": "35aa3ed8",
   "metadata": {},
   "source": [
    "# Machine Learning—Linear, Ridge, Lasso, and Elastic Net Regression Using Standard Scaler to Pre-Process Data\n",
    "\n",
    "Now, I will pre-process the data using standard scaler and then try all of the regression models again. Skip to the bottom to see a table with all the final results."
   ]
  },
  {
   "cell_type": "code",
   "execution_count": 8,
   "id": "b21f92d7",
   "metadata": {},
   "outputs": [],
   "source": [
    "import numpy as np\n",
    "import pandas as pd\n",
    "from sklearn.linear_model import LinearRegression\n",
    "from sklearn.ensemble import RandomForestClassifier\n",
    "from sklearn.linear_model import Ridge, Lasso, ElasticNet\n",
    "from sklearn.metrics import mean_squared_error\n",
    "from sklearn.model_selection import GridSearchCV, train_test_split\n",
    "from sklearn.preprocessing import StandardScaler"
   ]
  },
  {
   "cell_type": "code",
   "execution_count": 39,
   "id": "1ea0fa7e",
   "metadata": {},
   "outputs": [],
   "source": [
    "# Bring in the data\n",
    "%store -r X\n",
    "%store -r y\n",
    "%store -r X_train\n",
    "%store -r X_test\n",
    "%store -r y_train\n",
    "%store -r y_test\n",
    "%store -r table1"
   ]
  },
  {
   "cell_type": "code",
   "execution_count": 10,
   "id": "b0ce8881",
   "metadata": {},
   "outputs": [],
   "source": [
    "X_train, X_test, y_train, y_test = train_test_split(X, y, test_size = 0.25, random_state=1)"
   ]
  },
  {
   "cell_type": "markdown",
   "id": "ad4cd336",
   "metadata": {},
   "source": [
    "### Scale the numerical data"
   ]
  },
  {
   "cell_type": "code",
   "execution_count": 11,
   "id": "5309d63b",
   "metadata": {},
   "outputs": [],
   "source": [
    "# Instantiate a Standard Scaler and then scale the data for both training and test sets\n",
    "scaler = StandardScaler()\n",
    "X_train[['age','bmi']] = scaler.fit_transform(X_train[['age','bmi']])\n",
    "X_test[['age','bmi']] = scaler.transform(X_test[['age','bmi']])"
   ]
  },
  {
   "cell_type": "markdown",
   "id": "eb389cb5",
   "metadata": {},
   "source": [
    "### Linear Regression\n",
    "\n",
    "First, I will try a vanilla linear regression."
   ]
  },
  {
   "cell_type": "code",
   "execution_count": 12,
   "id": "85d398e8",
   "metadata": {},
   "outputs": [
    {
     "data": {
      "text/plain": [
       "LinearRegression()"
      ]
     },
     "execution_count": 12,
     "metadata": {},
     "output_type": "execute_result"
    }
   ],
   "source": [
    "# Fit the training data to the model.\n",
    "model1 = LinearRegression()\n",
    "model1.fit(X_train, y_train)"
   ]
  },
  {
   "cell_type": "code",
   "execution_count": 13,
   "id": "8298200f",
   "metadata": {},
   "outputs": [],
   "source": [
    "# Get the coefficient of determination for training and test data.\n",
    "model1_r2_train = model1.score(X_train, y_train)\n",
    "model1_r2_test = model1.score(X_test, y_test)"
   ]
  },
  {
   "cell_type": "code",
   "execution_count": 14,
   "id": "bd49e9be",
   "metadata": {},
   "outputs": [],
   "source": [
    "# Make predictions and get the RMSE for training and test data.\n",
    "model1_y_pred_train = model1.predict(X_train)\n",
    "model1_y_pred_test = model1.predict(X_test)\n",
    "model1_RMSE_train = np.sqrt(mean_squared_error(y_train, model1_y_pred_train))\n",
    "model1_RMSE_test = np.sqrt(mean_squared_error(y_test, model1_y_pred_test))"
   ]
  },
  {
   "cell_type": "code",
   "execution_count": 15,
   "id": "d88de93c",
   "metadata": {
    "scrolled": true
   },
   "outputs": [
    {
     "name": "stdout",
     "output_type": "stream",
     "text": [
      "R squared for training and test data:\n",
      "0.7562789441467117 0.734275077692753\n",
      "RMSE for training and test data:\n",
      "6055.905613168893 5978.637219305068\n"
     ]
    }
   ],
   "source": [
    "# View the coefficient of determination and RMSE values.\n",
    "print('R squared for training and test data:')\n",
    "print(model1_r2_train, model1_r2_test)\n",
    "print('RMSE for training and test data:')\n",
    "print(model1_RMSE_train, model1_RMSE_test)"
   ]
  },
  {
   "cell_type": "code",
   "execution_count": 16,
   "id": "9023190b",
   "metadata": {
    "scrolled": true
   },
   "outputs": [
    {
     "name": "stdout",
     "output_type": "stream",
     "text": [
      "Index(['age', 'bmi', 'sex_male', 'smoker_yes', 'children_1', 'children_2',\n",
      "       'children_3', 'children_4', 'children_5', 'region_northwest',\n",
      "       'region_southeast', 'region_southwest'],\n",
      "      dtype='object')\n",
      "[ 3524.88242084  1978.58156046  -268.42233783 24067.87704993\n",
      "  -103.80379432  1311.19532811   682.03649306  2127.71041988\n",
      "  1057.26082258  -251.34733476  -855.07435369  -654.86702882]\n"
     ]
    }
   ],
   "source": [
    "# View the coefficients of each term.\n",
    "print(X_train.columns)\n",
    "print(model1.coef_)"
   ]
  },
  {
   "cell_type": "markdown",
   "id": "10bc979e",
   "metadata": {},
   "source": [
    "Age, bmi, and smoker seem to be the largest predictors of charges."
   ]
  },
  {
   "cell_type": "markdown",
   "id": "c353153c",
   "metadata": {},
   "source": [
    "### Ridge Regression\n",
    "\n",
    "Now, I will see if regularization helps improve the model and reduces overfitting."
   ]
  },
  {
   "cell_type": "code",
   "execution_count": 17,
   "id": "786124dd",
   "metadata": {},
   "outputs": [
    {
     "data": {
      "text/plain": [
       "Ridge()"
      ]
     },
     "execution_count": 17,
     "metadata": {},
     "output_type": "execute_result"
    }
   ],
   "source": [
    "# Fit the training data to the model.\n",
    "model2 = Ridge()\n",
    "model2.fit(X_train, y_train)"
   ]
  },
  {
   "cell_type": "code",
   "execution_count": 18,
   "id": "71588f40",
   "metadata": {},
   "outputs": [],
   "source": [
    "# Get the coefficient of determination for training and test data.\n",
    "model2_r2_train = model2.score(X_train, y_train)\n",
    "model2_r2_test = model2.score(X_test, y_test)"
   ]
  },
  {
   "cell_type": "code",
   "execution_count": 19,
   "id": "604c8557",
   "metadata": {},
   "outputs": [],
   "source": [
    "# Make predictions and get the RMSE for training and test data.\n",
    "model2_y_pred_train = model2.predict(X_train)\n",
    "model2_y_pred_test = model2.predict(X_test)\n",
    "model2_RMSE_train = np.sqrt(mean_squared_error(y_train, model2_y_pred_train))\n",
    "model2_RMSE_test = np.sqrt(mean_squared_error(y_test, model2_y_pred_test))"
   ]
  },
  {
   "cell_type": "code",
   "execution_count": 20,
   "id": "3c3a0ccb",
   "metadata": {},
   "outputs": [
    {
     "name": "stdout",
     "output_type": "stream",
     "text": [
      "R squared for training and test data:\n",
      "0.7562524739550629 0.7343514052667499\n",
      "RMSE for training and test data:\n",
      "6056.234465818388 5977.778497350744\n"
     ]
    }
   ],
   "source": [
    "# View the coefficient of determination and RMSE values.\n",
    "print('R squared for training and test data:')\n",
    "print(model2_r2_train, model2_r2_test)\n",
    "print('RMSE for training and test data:')\n",
    "print(model2_RMSE_train, model2_RMSE_test)"
   ]
  },
  {
   "cell_type": "markdown",
   "id": "db40cb29",
   "metadata": {},
   "source": [
    "Ridge regularization didn't help too much."
   ]
  },
  {
   "cell_type": "markdown",
   "id": "27590a84",
   "metadata": {},
   "source": [
    "### Ridge Regression with different alpha"
   ]
  },
  {
   "cell_type": "code",
   "execution_count": 21,
   "id": "31d48a3c",
   "metadata": {},
   "outputs": [
    {
     "name": "stdout",
     "output_type": "stream",
     "text": [
      "{'alpha': 1}\n"
     ]
    }
   ],
   "source": [
    "# Create a grid search\n",
    "gs1 = GridSearchCV(model2, param_grid={'alpha':[0.01, 0.1, 1, 10, 100, 1000]})\n",
    "gs1.fit(X_train, y_train)\n",
    "print(gs1.best_params_)"
   ]
  },
  {
   "cell_type": "markdown",
   "id": "509d7ea6",
   "metadata": {},
   "source": [
    "It looks like the ideal alpha is 1, which is what I just tested."
   ]
  },
  {
   "cell_type": "markdown",
   "id": "6ce7b62f",
   "metadata": {},
   "source": [
    "### Lasso Regression\n",
    "\n",
    "Now, I will try Lasso regression."
   ]
  },
  {
   "cell_type": "code",
   "execution_count": 22,
   "id": "19e7930f",
   "metadata": {},
   "outputs": [
    {
     "data": {
      "text/plain": [
       "Lasso(alpha=0.1)"
      ]
     },
     "execution_count": 22,
     "metadata": {},
     "output_type": "execute_result"
    }
   ],
   "source": [
    "# Fit the training data to the model\n",
    "model3 = Lasso(alpha=0.1)\n",
    "model3.fit(X_train, y_train)"
   ]
  },
  {
   "cell_type": "code",
   "execution_count": 23,
   "id": "7559f507",
   "metadata": {},
   "outputs": [],
   "source": [
    "# Get the coefficient of determination for the training and test data.\n",
    "model3_r2_train = model3.score(X_train, y_train)\n",
    "model3_r2_test = model3.score(X_test, y_test)"
   ]
  },
  {
   "cell_type": "code",
   "execution_count": 24,
   "id": "407098f1",
   "metadata": {},
   "outputs": [],
   "source": [
    "# Make predictions and get the RMSE for training and test data.\n",
    "model3_y_pred_train = model3.predict(X_train)\n",
    "model3_y_pred_test = model3.predict(X_test)\n",
    "model3_RMSE_train = np.sqrt(mean_squared_error(y_train, model3_y_pred_train))\n",
    "model3_RMSE_test = np.sqrt(mean_squared_error(y_test, model3_y_pred_test))"
   ]
  },
  {
   "cell_type": "code",
   "execution_count": 25,
   "id": "3feee8ef",
   "metadata": {},
   "outputs": [
    {
     "name": "stdout",
     "output_type": "stream",
     "text": [
      "R squared for training and test data:\n",
      "0.7562789276497388 0.7342648965102131\n",
      "RMSE for training and test data:\n",
      "6055.9058181247365 5978.751753187141\n"
     ]
    }
   ],
   "source": [
    "# View the coefficient of determination and RMSE values.\n",
    "print('R squared for training and test data:')\n",
    "print(model3_r2_train, model3_r2_test)\n",
    "print('RMSE for training and test data:')\n",
    "print(model3_RMSE_train, model3_RMSE_test)"
   ]
  },
  {
   "cell_type": "markdown",
   "id": "3b2b3110",
   "metadata": {},
   "source": [
    "### Lasso Regression with different alpha"
   ]
  },
  {
   "cell_type": "code",
   "execution_count": 26,
   "id": "9e60afbb",
   "metadata": {},
   "outputs": [
    {
     "name": "stdout",
     "output_type": "stream",
     "text": [
      "{'alpha': 100}\n"
     ]
    }
   ],
   "source": [
    "# Create a grid search\n",
    "gs2 = GridSearchCV(model3, param_grid={'alpha':[0.01, 0.1, 1, 10, 100, 1000]})\n",
    "gs2.fit(X_train, y_train)\n",
    "print(gs2.best_params_)"
   ]
  },
  {
   "cell_type": "markdown",
   "id": "c298ce6d",
   "metadata": {},
   "source": [
    "It looks like the ideal alpha is 1, which is what I just tested."
   ]
  },
  {
   "cell_type": "markdown",
   "id": "ed0dedca",
   "metadata": {},
   "source": [
    "### Elastic Net Regression"
   ]
  },
  {
   "cell_type": "code",
   "execution_count": 27,
   "id": "fcca2091",
   "metadata": {},
   "outputs": [
    {
     "data": {
      "text/plain": [
       "ElasticNet()"
      ]
     },
     "execution_count": 27,
     "metadata": {},
     "output_type": "execute_result"
    }
   ],
   "source": [
    "# Fit the training data to the model\n",
    "model4 = ElasticNet()\n",
    "model4.fit(X_train, y_train)"
   ]
  },
  {
   "cell_type": "code",
   "execution_count": 28,
   "id": "3dfbfa5e",
   "metadata": {},
   "outputs": [],
   "source": [
    "# Get the coefficient of determination for the training and test data.\n",
    "model4_r2_train = model4.score(X_train, y_train)\n",
    "model4_r2_test = model4.score(X_test, y_test)"
   ]
  },
  {
   "cell_type": "code",
   "execution_count": 29,
   "id": "b7f50634",
   "metadata": {},
   "outputs": [],
   "source": [
    "# Make predictions and get the RMSE for training and test data.\n",
    "model4_y_pred_train = model4.predict(X_train)\n",
    "model4_y_pred_test = model4.predict(X_test)\n",
    "model4_RMSE_train = np.sqrt(mean_squared_error(y_train, model4_y_pred_train))\n",
    "model4_RMSE_test = np.sqrt(mean_squared_error(y_test, model4_y_pred_test))"
   ]
  },
  {
   "cell_type": "code",
   "execution_count": 30,
   "id": "e87d5ee7",
   "metadata": {},
   "outputs": [
    {
     "name": "stdout",
     "output_type": "stream",
     "text": [
      "R squared for training and test data:\n",
      "0.3844246694287381 0.38624759753250537\n",
      "RMSE for training and test data:\n",
      "9624.389169197126 9086.207691440462\n"
     ]
    }
   ],
   "source": [
    "# View the coefficient of determination and RMSE values.\n",
    "print('R squared for training and test data:')\n",
    "print(model4_r2_train, model4_r2_test)\n",
    "print('RMSE for training and test data:')\n",
    "print(model4_RMSE_train, model4_RMSE_test)"
   ]
  },
  {
   "cell_type": "markdown",
   "id": "c71c07e1",
   "metadata": {},
   "source": [
    "This model does much worse than the others."
   ]
  },
  {
   "cell_type": "markdown",
   "id": "a67825a0",
   "metadata": {},
   "source": [
    "### Elastic Net Regression with different alpha and L1 ratios"
   ]
  },
  {
   "cell_type": "code",
   "execution_count": 31,
   "id": "51432bb1",
   "metadata": {},
   "outputs": [
    {
     "name": "stdout",
     "output_type": "stream",
     "text": [
      "{'alpha': 0.01, 'l1_ratio': 0.75}\n"
     ]
    }
   ],
   "source": [
    "# Create a grid search\n",
    "gs3 = GridSearchCV(model4, param_grid={'alpha':[0.01, 0.1, 1, 10, 100, 1000], 'l1_ratio':[0.25, 0.5, 0.75]})\n",
    "gs3.fit(X_train, y_train)\n",
    "print(gs3.best_params_)"
   ]
  },
  {
   "cell_type": "code",
   "execution_count": 32,
   "id": "84312e6d",
   "metadata": {},
   "outputs": [
    {
     "data": {
      "text/plain": [
       "ElasticNet(alpha=0.01, l1_ratio=0.75)"
      ]
     },
     "execution_count": 32,
     "metadata": {},
     "output_type": "execute_result"
    }
   ],
   "source": [
    "# Fit the training data to the model\n",
    "model5 = ElasticNet(alpha=0.01, l1_ratio=0.75)\n",
    "model5.fit(X_train, y_train)"
   ]
  },
  {
   "cell_type": "code",
   "execution_count": 33,
   "id": "cdf3cd01",
   "metadata": {},
   "outputs": [],
   "source": [
    "# Get the coefficient of determination for the training and test data.\n",
    "model5_r2_train = model5.score(X_train, y_train)\n",
    "model5_r2_test = model5.score(X_test, y_test)"
   ]
  },
  {
   "cell_type": "code",
   "execution_count": 34,
   "id": "7759e750",
   "metadata": {},
   "outputs": [],
   "source": [
    "# Make predictions and get the RMSE for training and test data.\n",
    "model5_y_pred_train = model5.predict(X_train)\n",
    "model5_y_pred_test = model5.predict(X_test)\n",
    "model5_RMSE_train = np.sqrt(mean_squared_error(y_train, model5_y_pred_train))\n",
    "model5_RMSE_test = np.sqrt(mean_squared_error(y_test, model5_y_pred_test))"
   ]
  },
  {
   "cell_type": "code",
   "execution_count": 35,
   "id": "d26a43fb",
   "metadata": {},
   "outputs": [
    {
     "name": "stdout",
     "output_type": "stream",
     "text": [
      "R squared for training and test data:\n",
      "0.756118539350845 0.73439280523719\n",
      "RMSE for training and test data:\n",
      "6057.898129822696 5977.3126761477315\n"
     ]
    }
   ],
   "source": [
    "# View the coefficient of determination and RMSE values.\n",
    "print('R squared for training and test data:')\n",
    "print(model5_r2_train, model5_r2_test)\n",
    "print('RMSE for training and test data:')\n",
    "print(model5_RMSE_train, model5_RMSE_test)"
   ]
  },
  {
   "cell_type": "markdown",
   "id": "1db8b40e",
   "metadata": {},
   "source": [
    "### Hyperparameter table"
   ]
  },
  {
   "cell_type": "code",
   "execution_count": 38,
   "id": "760a71a1",
   "metadata": {
    "scrolled": true
   },
   "outputs": [
    {
     "data": {
      "text/html": [
       "<div>\n",
       "<style scoped>\n",
       "    .dataframe tbody tr th:only-of-type {\n",
       "        vertical-align: middle;\n",
       "    }\n",
       "\n",
       "    .dataframe tbody tr th {\n",
       "        vertical-align: top;\n",
       "    }\n",
       "\n",
       "    .dataframe thead th {\n",
       "        text-align: right;\n",
       "    }\n",
       "</style>\n",
       "<table border=\"1\" class=\"dataframe\">\n",
       "  <thead>\n",
       "    <tr style=\"text-align: right;\">\n",
       "      <th></th>\n",
       "      <th>Scaler</th>\n",
       "      <th>Model</th>\n",
       "      <th>Alpha</th>\n",
       "      <th>L1 Ratio</th>\n",
       "      <th>Training R2</th>\n",
       "      <th>Test R2</th>\n",
       "      <th>Training RMSE</th>\n",
       "      <th>Test RMSE</th>\n",
       "    </tr>\n",
       "  </thead>\n",
       "  <tbody>\n",
       "    <tr>\n",
       "      <th>0</th>\n",
       "      <td>Standard</td>\n",
       "      <td>Linear Regression</td>\n",
       "      <td>NA</td>\n",
       "      <td>NA</td>\n",
       "      <td>0.756279</td>\n",
       "      <td>0.734275</td>\n",
       "      <td>6055.905613</td>\n",
       "      <td>5978.637219</td>\n",
       "    </tr>\n",
       "    <tr>\n",
       "      <th>1</th>\n",
       "      <td>Standard</td>\n",
       "      <td>Ridge Regression</td>\n",
       "      <td>1</td>\n",
       "      <td>NA</td>\n",
       "      <td>0.756252</td>\n",
       "      <td>0.734351</td>\n",
       "      <td>6056.234466</td>\n",
       "      <td>5977.778497</td>\n",
       "    </tr>\n",
       "    <tr>\n",
       "      <th>2</th>\n",
       "      <td>Standard</td>\n",
       "      <td>Lasso Regression</td>\n",
       "      <td>1</td>\n",
       "      <td>NA</td>\n",
       "      <td>0.756279</td>\n",
       "      <td>0.734265</td>\n",
       "      <td>6055.905818</td>\n",
       "      <td>5978.751753</td>\n",
       "    </tr>\n",
       "    <tr>\n",
       "      <th>3</th>\n",
       "      <td>Standard</td>\n",
       "      <td>Elastic Net Regression</td>\n",
       "      <td>1</td>\n",
       "      <td>0.5</td>\n",
       "      <td>0.384425</td>\n",
       "      <td>0.386248</td>\n",
       "      <td>9624.389169</td>\n",
       "      <td>9086.207691</td>\n",
       "    </tr>\n",
       "    <tr>\n",
       "      <th>4</th>\n",
       "      <td>Standard</td>\n",
       "      <td>Elastic Net Regression</td>\n",
       "      <td>0.01</td>\n",
       "      <td>0.75</td>\n",
       "      <td>0.756119</td>\n",
       "      <td>0.734393</td>\n",
       "      <td>6057.898130</td>\n",
       "      <td>5977.312676</td>\n",
       "    </tr>\n",
       "  </tbody>\n",
       "</table>\n",
       "</div>"
      ],
      "text/plain": [
       "     Scaler                   Model Alpha L1 Ratio  Training R2   Test R2  \\\n",
       "0  Standard       Linear Regression    NA       NA     0.756279  0.734275   \n",
       "1  Standard        Ridge Regression     1       NA     0.756252  0.734351   \n",
       "2  Standard        Lasso Regression     1       NA     0.756279  0.734265   \n",
       "3  Standard  Elastic Net Regression     1      0.5     0.384425  0.386248   \n",
       "4  Standard  Elastic Net Regression  0.01     0.75     0.756119  0.734393   \n",
       "\n",
       "   Training RMSE    Test RMSE  \n",
       "0    6055.905613  5978.637219  \n",
       "1    6056.234466  5977.778497  \n",
       "2    6055.905818  5978.751753  \n",
       "3    9624.389169  9086.207691  \n",
       "4    6057.898130  5977.312676  "
      ]
     },
     "execution_count": 38,
     "metadata": {},
     "output_type": "execute_result"
    }
   ],
   "source": [
    "data2 = [['Standard', 'Linear Regression', 'NA', 'NA', model1_r2_train, model1_r2_test, model1_RMSE_train, model1_RMSE_test],\n",
    "        ['Standard', 'Ridge Regression', 1, 'NA', model2_r2_train, model2_r2_test, model2_RMSE_train, model2_RMSE_test],\n",
    "        ['Standard', 'Lasso Regression', 1, 'NA', model3_r2_train, model3_r2_test, model3_RMSE_train, model3_RMSE_test],\n",
    "        ['Standard', 'Elastic Net Regression', 1, 0.5, model4_r2_train, model4_r2_test, model4_RMSE_train, model4_RMSE_test],\n",
    "        ['Standard', 'Elastic Net Regression', 0.01, 0.75, model5_r2_train, model5_r2_test, model5_RMSE_train, model5_RMSE_test]]\n",
    "\n",
    "table2 = pd.DataFrame(data2, columns = ['Scaler','Model', 'Alpha', 'L1 Ratio', 'Training R2', 'Test R2', 'Training RMSE', 'Test RMSE'])\n",
    "table2"
   ]
  },
  {
   "cell_type": "markdown",
   "id": "6860f370",
   "metadata": {},
   "source": [
    "Elastic Net regression with alpha set to 0.01 and L1 ratio set to 0.75 seems to perform the best."
   ]
  },
  {
   "cell_type": "markdown",
   "id": "4ea4e078",
   "metadata": {},
   "source": [
    "### Combine both hyperparameter tables"
   ]
  },
  {
   "cell_type": "code",
   "execution_count": 40,
   "id": "d1858fbc",
   "metadata": {},
   "outputs": [
    {
     "data": {
      "text/html": [
       "<div>\n",
       "<style scoped>\n",
       "    .dataframe tbody tr th:only-of-type {\n",
       "        vertical-align: middle;\n",
       "    }\n",
       "\n",
       "    .dataframe tbody tr th {\n",
       "        vertical-align: top;\n",
       "    }\n",
       "\n",
       "    .dataframe thead th {\n",
       "        text-align: right;\n",
       "    }\n",
       "</style>\n",
       "<table border=\"1\" class=\"dataframe\">\n",
       "  <thead>\n",
       "    <tr style=\"text-align: right;\">\n",
       "      <th></th>\n",
       "      <th>Scaler</th>\n",
       "      <th>Model</th>\n",
       "      <th>Alpha</th>\n",
       "      <th>L1 Ratio</th>\n",
       "      <th>Training R2</th>\n",
       "      <th>Test R2</th>\n",
       "      <th>Training RMSE</th>\n",
       "      <th>Test RMSE</th>\n",
       "    </tr>\n",
       "  </thead>\n",
       "  <tbody>\n",
       "    <tr>\n",
       "      <th>0</th>\n",
       "      <td>MinMax</td>\n",
       "      <td>Linear Regression</td>\n",
       "      <td>NA</td>\n",
       "      <td>NA</td>\n",
       "      <td>0.756279</td>\n",
       "      <td>0.734275</td>\n",
       "      <td>6055.905613</td>\n",
       "      <td>5978.637219</td>\n",
       "    </tr>\n",
       "    <tr>\n",
       "      <th>1</th>\n",
       "      <td>MinMax</td>\n",
       "      <td>Ridge Regression</td>\n",
       "      <td>1</td>\n",
       "      <td>NA</td>\n",
       "      <td>0.756210</td>\n",
       "      <td>0.733789</td>\n",
       "      <td>6056.768114</td>\n",
       "      <td>5984.108551</td>\n",
       "    </tr>\n",
       "    <tr>\n",
       "      <th>2</th>\n",
       "      <td>MinMax</td>\n",
       "      <td>Lasso Regression</td>\n",
       "      <td>1</td>\n",
       "      <td>NA</td>\n",
       "      <td>0.756279</td>\n",
       "      <td>0.734261</td>\n",
       "      <td>6055.905868</td>\n",
       "      <td>5978.793975</td>\n",
       "    </tr>\n",
       "    <tr>\n",
       "      <th>3</th>\n",
       "      <td>MinMax</td>\n",
       "      <td>Elastic Net Regression</td>\n",
       "      <td>1</td>\n",
       "      <td>0.5</td>\n",
       "      <td>0.311151</td>\n",
       "      <td>0.300776</td>\n",
       "      <td>10181.094782</td>\n",
       "      <td>9698.271540</td>\n",
       "    </tr>\n",
       "    <tr>\n",
       "      <th>4</th>\n",
       "      <td>MinMax</td>\n",
       "      <td>Elastic Net Regression</td>\n",
       "      <td>0.01</td>\n",
       "      <td>0.75</td>\n",
       "      <td>0.755874</td>\n",
       "      <td>0.732893</td>\n",
       "      <td>6060.939552</td>\n",
       "      <td>5994.166537</td>\n",
       "    </tr>\n",
       "    <tr>\n",
       "      <th>0</th>\n",
       "      <td>Standard</td>\n",
       "      <td>Linear Regression</td>\n",
       "      <td>NA</td>\n",
       "      <td>NA</td>\n",
       "      <td>0.756279</td>\n",
       "      <td>0.734275</td>\n",
       "      <td>6055.905613</td>\n",
       "      <td>5978.637219</td>\n",
       "    </tr>\n",
       "    <tr>\n",
       "      <th>1</th>\n",
       "      <td>Standard</td>\n",
       "      <td>Ridge Regression</td>\n",
       "      <td>1</td>\n",
       "      <td>NA</td>\n",
       "      <td>0.756252</td>\n",
       "      <td>0.734351</td>\n",
       "      <td>6056.234466</td>\n",
       "      <td>5977.778497</td>\n",
       "    </tr>\n",
       "    <tr>\n",
       "      <th>2</th>\n",
       "      <td>Standard</td>\n",
       "      <td>Lasso Regression</td>\n",
       "      <td>1</td>\n",
       "      <td>NA</td>\n",
       "      <td>0.756279</td>\n",
       "      <td>0.734265</td>\n",
       "      <td>6055.905818</td>\n",
       "      <td>5978.751753</td>\n",
       "    </tr>\n",
       "    <tr>\n",
       "      <th>3</th>\n",
       "      <td>Standard</td>\n",
       "      <td>Elastic Net Regression</td>\n",
       "      <td>1</td>\n",
       "      <td>0.5</td>\n",
       "      <td>0.384425</td>\n",
       "      <td>0.386248</td>\n",
       "      <td>9624.389169</td>\n",
       "      <td>9086.207691</td>\n",
       "    </tr>\n",
       "    <tr>\n",
       "      <th>4</th>\n",
       "      <td>Standard</td>\n",
       "      <td>Elastic Net Regression</td>\n",
       "      <td>0.01</td>\n",
       "      <td>0.75</td>\n",
       "      <td>0.756119</td>\n",
       "      <td>0.734393</td>\n",
       "      <td>6057.898130</td>\n",
       "      <td>5977.312676</td>\n",
       "    </tr>\n",
       "  </tbody>\n",
       "</table>\n",
       "</div>"
      ],
      "text/plain": [
       "     Scaler                   Model Alpha L1 Ratio  Training R2   Test R2  \\\n",
       "0    MinMax       Linear Regression    NA       NA     0.756279  0.734275   \n",
       "1    MinMax        Ridge Regression     1       NA     0.756210  0.733789   \n",
       "2    MinMax        Lasso Regression     1       NA     0.756279  0.734261   \n",
       "3    MinMax  Elastic Net Regression     1      0.5     0.311151  0.300776   \n",
       "4    MinMax  Elastic Net Regression  0.01     0.75     0.755874  0.732893   \n",
       "0  Standard       Linear Regression    NA       NA     0.756279  0.734275   \n",
       "1  Standard        Ridge Regression     1       NA     0.756252  0.734351   \n",
       "2  Standard        Lasso Regression     1       NA     0.756279  0.734265   \n",
       "3  Standard  Elastic Net Regression     1      0.5     0.384425  0.386248   \n",
       "4  Standard  Elastic Net Regression  0.01     0.75     0.756119  0.734393   \n",
       "\n",
       "   Training RMSE    Test RMSE  \n",
       "0    6055.905613  5978.637219  \n",
       "1    6056.768114  5984.108551  \n",
       "2    6055.905868  5978.793975  \n",
       "3   10181.094782  9698.271540  \n",
       "4    6060.939552  5994.166537  \n",
       "0    6055.905613  5978.637219  \n",
       "1    6056.234466  5977.778497  \n",
       "2    6055.905818  5978.751753  \n",
       "3    9624.389169  9086.207691  \n",
       "4    6057.898130  5977.312676  "
      ]
     },
     "execution_count": 40,
     "metadata": {},
     "output_type": "execute_result"
    }
   ],
   "source": [
    "pd.concat([table1,table2], axis=0)"
   ]
  },
  {
   "cell_type": "markdown",
   "id": "a1585cf4",
   "metadata": {},
   "source": [
    "Elastic Net regression with alpha set to 0.01 and L1 ratio set to 0.75 seems to perform the best overall.\n",
    "\n",
    "Whether or not the patient is a smoker is by far the biggest indicator of charges. Smokers are charged more."
   ]
  }
 ],
 "metadata": {
  "kernelspec": {
   "display_name": "Python 3",
   "language": "python",
   "name": "python3"
  },
  "language_info": {
   "codemirror_mode": {
    "name": "ipython",
    "version": 3
   },
   "file_extension": ".py",
   "mimetype": "text/x-python",
   "name": "python",
   "nbconvert_exporter": "python",
   "pygments_lexer": "ipython3",
   "version": "3.8.8"
  }
 },
 "nbformat": 4,
 "nbformat_minor": 5
}
