{
 "cells": [
  {
   "cell_type": "markdown",
   "id": "47793d2b",
   "metadata": {},
   "source": [
    "# Machine Learning with AdaBoost\n",
    "\n",
    "Now I will train a regression model using AdaBoost."
   ]
  },
  {
   "cell_type": "code",
   "execution_count": 1,
   "id": "0e208064",
   "metadata": {},
   "outputs": [],
   "source": [
    "import numpy as np\n",
    "import pandas as pd\n",
    "from sklearn.model_selection import train_test_split\n",
    "from sklearn.ensemble import AdaBoostRegressor\n",
    "from sklearn.metrics import mean_squared_error"
   ]
  },
  {
   "cell_type": "code",
   "execution_count": 2,
   "id": "58472f9b",
   "metadata": {},
   "outputs": [],
   "source": [
    "# Bring in the data\n",
    "%store -r X\n",
    "%store -r y"
   ]
  },
  {
   "cell_type": "code",
   "execution_count": 3,
   "id": "99545f62",
   "metadata": {},
   "outputs": [],
   "source": [
    "# Split the data into training and test sets\n",
    "X_train, X_test, y_train, y_test = train_test_split(X, y, test_size = 0.25, random_state = 1)"
   ]
  },
  {
   "cell_type": "markdown",
   "id": "0e333898",
   "metadata": {},
   "source": [
    "### AdaBoost Regressor Using Decision Trees"
   ]
  },
  {
   "cell_type": "code",
   "execution_count": 4,
   "id": "95c92254",
   "metadata": {},
   "outputs": [],
   "source": [
    "# Define a AdaBoost regressor function that can take different \n",
    "# n_estimators and learning_rate and output R squared and RMSE.\n",
    "def ab_R2_RMSE(n_estimators, learning_rate):\n",
    "    data = []\n",
    "    for n in n_estimators:\n",
    "        for l in learning_rate:\n",
    "            model = AdaBoostRegressor(n_estimators=n, learning_rate=l)\n",
    "            model.fit(X_train, y_train)\n",
    "    \n",
    "            model_r2_train = model.score(X_train, y_train)\n",
    "            model_r2_test = model.score(X_test, y_test)\n",
    "    \n",
    "            model_y_pred_train = model.predict(X_train)\n",
    "            model_y_pred_test = model.predict(X_test)\n",
    "            model_RMSE_train = np.sqrt(mean_squared_error(y_train, model_y_pred_train))\n",
    "            model_RMSE_test = np.sqrt(mean_squared_error(y_test, model_y_pred_test))\n",
    "    \n",
    "            data.append([n, l, model_r2_train, model_r2_test, model_RMSE_train, model_RMSE_test])\n",
    "            \n",
    "    table = pd.DataFrame(data, columns = ['Estimators', 'Learning Rate', 'Training R2', 'Test R2', 'Training RMSE', 'Test RMSE'])\n",
    "    \n",
    "    return table"
   ]
  },
  {
   "cell_type": "code",
   "execution_count": 5,
   "id": "7c90ea42",
   "metadata": {},
   "outputs": [
    {
     "data": {
      "text/html": [
       "<div>\n",
       "<style scoped>\n",
       "    .dataframe tbody tr th:only-of-type {\n",
       "        vertical-align: middle;\n",
       "    }\n",
       "\n",
       "    .dataframe tbody tr th {\n",
       "        vertical-align: top;\n",
       "    }\n",
       "\n",
       "    .dataframe thead th {\n",
       "        text-align: right;\n",
       "    }\n",
       "</style>\n",
       "<table border=\"1\" class=\"dataframe\">\n",
       "  <thead>\n",
       "    <tr style=\"text-align: right;\">\n",
       "      <th></th>\n",
       "      <th>Estimators</th>\n",
       "      <th>Learning Rate</th>\n",
       "      <th>Training R2</th>\n",
       "      <th>Test R2</th>\n",
       "      <th>Training RMSE</th>\n",
       "      <th>Test RMSE</th>\n",
       "    </tr>\n",
       "  </thead>\n",
       "  <tbody>\n",
       "    <tr>\n",
       "      <th>0</th>\n",
       "      <td>50</td>\n",
       "      <td>1.0</td>\n",
       "      <td>0.830095</td>\n",
       "      <td>0.789454</td>\n",
       "      <td>5056.330881</td>\n",
       "      <td>5321.811441</td>\n",
       "    </tr>\n",
       "    <tr>\n",
       "      <th>1</th>\n",
       "      <td>100</td>\n",
       "      <td>1.0</td>\n",
       "      <td>0.833214</td>\n",
       "      <td>0.806653</td>\n",
       "      <td>5009.707514</td>\n",
       "      <td>5099.824981</td>\n",
       "    </tr>\n",
       "    <tr>\n",
       "      <th>2</th>\n",
       "      <td>150</td>\n",
       "      <td>1.0</td>\n",
       "      <td>0.838206</td>\n",
       "      <td>0.801861</td>\n",
       "      <td>4934.169830</td>\n",
       "      <td>5162.629860</td>\n",
       "    </tr>\n",
       "    <tr>\n",
       "      <th>3</th>\n",
       "      <td>200</td>\n",
       "      <td>1.0</td>\n",
       "      <td>0.836824</td>\n",
       "      <td>0.804277</td>\n",
       "      <td>4955.194200</td>\n",
       "      <td>5131.054698</td>\n",
       "    </tr>\n",
       "    <tr>\n",
       "      <th>4</th>\n",
       "      <td>250</td>\n",
       "      <td>1.0</td>\n",
       "      <td>0.836021</td>\n",
       "      <td>0.795072</td>\n",
       "      <td>4967.375750</td>\n",
       "      <td>5250.336279</td>\n",
       "    </tr>\n",
       "    <tr>\n",
       "      <th>5</th>\n",
       "      <td>300</td>\n",
       "      <td>1.0</td>\n",
       "      <td>0.834825</td>\n",
       "      <td>0.802342</td>\n",
       "      <td>4985.447358</td>\n",
       "      <td>5156.362737</td>\n",
       "    </tr>\n",
       "  </tbody>\n",
       "</table>\n",
       "</div>"
      ],
      "text/plain": [
       "   Estimators  Learning Rate  Training R2   Test R2  Training RMSE  \\\n",
       "0          50            1.0     0.830095  0.789454    5056.330881   \n",
       "1         100            1.0     0.833214  0.806653    5009.707514   \n",
       "2         150            1.0     0.838206  0.801861    4934.169830   \n",
       "3         200            1.0     0.836824  0.804277    4955.194200   \n",
       "4         250            1.0     0.836021  0.795072    4967.375750   \n",
       "5         300            1.0     0.834825  0.802342    4985.447358   \n",
       "\n",
       "     Test RMSE  \n",
       "0  5321.811441  \n",
       "1  5099.824981  \n",
       "2  5162.629860  \n",
       "3  5131.054698  \n",
       "4  5250.336279  \n",
       "5  5156.362737  "
      ]
     },
     "execution_count": 5,
     "metadata": {},
     "output_type": "execute_result"
    }
   ],
   "source": [
    "# Try different models to find the ideal number of estimators.\n",
    "n_estimators = [50, 100, 150, 200, 250, 300]\n",
    "learning_rate = [1.0]\n",
    "\n",
    "ab_R2_RMSE(n_estimators, learning_rate)"
   ]
  },
  {
   "cell_type": "markdown",
   "id": "3bc19a80",
   "metadata": {},
   "source": [
    "250 estimators is the ideal number."
   ]
  },
  {
   "cell_type": "code",
   "execution_count": 7,
   "id": "a2f3af81",
   "metadata": {},
   "outputs": [
    {
     "data": {
      "text/html": [
       "<div>\n",
       "<style scoped>\n",
       "    .dataframe tbody tr th:only-of-type {\n",
       "        vertical-align: middle;\n",
       "    }\n",
       "\n",
       "    .dataframe tbody tr th {\n",
       "        vertical-align: top;\n",
       "    }\n",
       "\n",
       "    .dataframe thead th {\n",
       "        text-align: right;\n",
       "    }\n",
       "</style>\n",
       "<table border=\"1\" class=\"dataframe\">\n",
       "  <thead>\n",
       "    <tr style=\"text-align: right;\">\n",
       "      <th></th>\n",
       "      <th>Estimators</th>\n",
       "      <th>Learning Rate</th>\n",
       "      <th>Training R2</th>\n",
       "      <th>Test R2</th>\n",
       "      <th>Training RMSE</th>\n",
       "      <th>Test RMSE</th>\n",
       "    </tr>\n",
       "  </thead>\n",
       "  <tbody>\n",
       "    <tr>\n",
       "      <th>0</th>\n",
       "      <td>250</td>\n",
       "      <td>0.0001</td>\n",
       "      <td>0.863211</td>\n",
       "      <td>0.840023</td>\n",
       "      <td>4536.886634</td>\n",
       "      <td>4638.898958</td>\n",
       "    </tr>\n",
       "    <tr>\n",
       "      <th>1</th>\n",
       "      <td>250</td>\n",
       "      <td>0.0010</td>\n",
       "      <td>0.863074</td>\n",
       "      <td>0.839777</td>\n",
       "      <td>4539.164894</td>\n",
       "      <td>4642.465370</td>\n",
       "    </tr>\n",
       "    <tr>\n",
       "      <th>2</th>\n",
       "      <td>250</td>\n",
       "      <td>0.0100</td>\n",
       "      <td>0.854671</td>\n",
       "      <td>0.826572</td>\n",
       "      <td>4676.372037</td>\n",
       "      <td>4829.988263</td>\n",
       "    </tr>\n",
       "    <tr>\n",
       "      <th>3</th>\n",
       "      <td>250</td>\n",
       "      <td>0.1000</td>\n",
       "      <td>0.836750</td>\n",
       "      <td>0.802858</td>\n",
       "      <td>4956.319767</td>\n",
       "      <td>5149.622936</td>\n",
       "    </tr>\n",
       "    <tr>\n",
       "      <th>4</th>\n",
       "      <td>250</td>\n",
       "      <td>1.0000</td>\n",
       "      <td>0.838946</td>\n",
       "      <td>0.799202</td>\n",
       "      <td>4922.875307</td>\n",
       "      <td>5197.159404</td>\n",
       "    </tr>\n",
       "    <tr>\n",
       "      <th>5</th>\n",
       "      <td>250</td>\n",
       "      <td>10.0000</td>\n",
       "      <td>0.019038</td>\n",
       "      <td>-0.185856</td>\n",
       "      <td>12149.509375</td>\n",
       "      <td>12629.961178</td>\n",
       "    </tr>\n",
       "  </tbody>\n",
       "</table>\n",
       "</div>"
      ],
      "text/plain": [
       "   Estimators  Learning Rate  Training R2   Test R2  Training RMSE  \\\n",
       "0         250         0.0001     0.863211  0.840023    4536.886634   \n",
       "1         250         0.0010     0.863074  0.839777    4539.164894   \n",
       "2         250         0.0100     0.854671  0.826572    4676.372037   \n",
       "3         250         0.1000     0.836750  0.802858    4956.319767   \n",
       "4         250         1.0000     0.838946  0.799202    4922.875307   \n",
       "5         250        10.0000     0.019038 -0.185856   12149.509375   \n",
       "\n",
       "      Test RMSE  \n",
       "0   4638.898958  \n",
       "1   4642.465370  \n",
       "2   4829.988263  \n",
       "3   5149.622936  \n",
       "4   5197.159404  \n",
       "5  12629.961178  "
      ]
     },
     "execution_count": 7,
     "metadata": {},
     "output_type": "execute_result"
    }
   ],
   "source": [
    "# Try different models to find the ideal learning rate.\n",
    "n_estimators = [250]\n",
    "learning_rate = [0.0001, 0.001, 0.01, 0.1, 1.0, 10]\n",
    "\n",
    "ab_results = ab_R2_RMSE(n_estimators, learning_rate)\n",
    "ab_results"
   ]
  },
  {
   "cell_type": "markdown",
   "id": "34d91b02",
   "metadata": {},
   "source": [
    "The ideal learning rate is 0.001.\n",
    "\n",
    "So the ideal AdaBoosted model has 250 estimators and a learning rate of 0.001."
   ]
  },
  {
   "cell_type": "markdown",
   "id": "fc5de826",
   "metadata": {},
   "source": [
    "This model does not perform better than the previous best model, random forest with depth 3 and estimators 400."
   ]
  },
  {
   "cell_type": "code",
   "execution_count": 8,
   "id": "811f091e",
   "metadata": {},
   "outputs": [
    {
     "name": "stdout",
     "output_type": "stream",
     "text": [
      "Stored 'ab_results' (DataFrame)\n"
     ]
    }
   ],
   "source": [
    "# Save the table for final metrics file\n",
    "%store ab_results"
   ]
  }
 ],
 "metadata": {
  "kernelspec": {
   "display_name": "Python 3",
   "language": "python",
   "name": "python3"
  },
  "language_info": {
   "codemirror_mode": {
    "name": "ipython",
    "version": 3
   },
   "file_extension": ".py",
   "mimetype": "text/x-python",
   "name": "python",
   "nbconvert_exporter": "python",
   "pygments_lexer": "ipython3",
   "version": "3.8.8"
  }
 },
 "nbformat": 4,
 "nbformat_minor": 5
}
