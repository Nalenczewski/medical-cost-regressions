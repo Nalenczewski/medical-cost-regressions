{
 "cells": [
  {
   "cell_type": "markdown",
   "id": "05d63fc1",
   "metadata": {},
   "source": [
    "# Machine Learning with Decision Tree and Random Forest\n",
    "\n",
    "Now I will train a regression model using decision tree and then random forest."
   ]
  },
  {
   "cell_type": "code",
   "execution_count": 1,
   "id": "f08024c4",
   "metadata": {},
   "outputs": [],
   "source": [
    "import numpy as np\n",
    "import pandas as pd\n",
    "from sklearn.model_selection import train_test_split\n",
    "from sklearn.tree import DecisionTreeRegressor\n",
    "from sklearn.ensemble import RandomForestRegressor\n",
    "from sklearn.metrics import mean_squared_error"
   ]
  },
  {
   "cell_type": "code",
   "execution_count": 2,
   "id": "fe00fcfb",
   "metadata": {},
   "outputs": [],
   "source": [
    "# Bring in the data\n",
    "%store -r X\n",
    "%store -r y"
   ]
  },
  {
   "cell_type": "markdown",
   "id": "3946171f",
   "metadata": {},
   "source": [
    "I need to split the data again into training and test sets because this time I will not scale the data."
   ]
  },
  {
   "cell_type": "code",
   "execution_count": 3,
   "id": "58a962c1",
   "metadata": {},
   "outputs": [],
   "source": [
    "# Split the data into training and test sets\n",
    "X_train, X_test, y_train, y_test = train_test_split(X, y, test_size = 0.25, random_state = 1)"
   ]
  },
  {
   "cell_type": "markdown",
   "id": "e4fe3271",
   "metadata": {},
   "source": [
    "### Decision Tree Regressor"
   ]
  },
  {
   "cell_type": "code",
   "execution_count": 4,
   "id": "2f464309",
   "metadata": {},
   "outputs": [],
   "source": [
    "# Define a decision tree function that can take different criterion and max_depth and output R squared and RMSE.\n",
    "def dt_R2_RMSE(criterion, max_depth):\n",
    "    data = []\n",
    "    for crit in criterion:\n",
    "        for depth in max_depth:\n",
    "            model = DecisionTreeRegressor(criterion=crit, max_depth=depth, random_state=1)\n",
    "            model.fit(X_train, y_train)\n",
    "    \n",
    "            model_r2_train = model.score(X_train, y_train)\n",
    "            model_r2_test = model.score(X_test, y_test)\n",
    "    \n",
    "            model_y_pred_train = model.predict(X_train)\n",
    "            model_y_pred_test = model.predict(X_test)\n",
    "            model_RMSE_train = np.sqrt(mean_squared_error(y_train, model_y_pred_train))\n",
    "            model_RMSE_test = np.sqrt(mean_squared_error(y_test, model_y_pred_test))\n",
    "    \n",
    "            data.append([crit, depth, model_r2_train, model_r2_test, model_RMSE_train, model_RMSE_test])\n",
    "            \n",
    "    table = pd.DataFrame(data, columns = ['Criterion','Max_depth', 'Training R2', 'Test R2', 'Training RMSE', 'Test RMSE'])\n",
    "    \n",
    "    return table"
   ]
  },
  {
   "cell_type": "code",
   "execution_count": 6,
   "id": "5b7d05c7",
   "metadata": {
    "scrolled": false
   },
   "outputs": [
    {
     "data": {
      "text/html": [
       "<div>\n",
       "<style scoped>\n",
       "    .dataframe tbody tr th:only-of-type {\n",
       "        vertical-align: middle;\n",
       "    }\n",
       "\n",
       "    .dataframe tbody tr th {\n",
       "        vertical-align: top;\n",
       "    }\n",
       "\n",
       "    .dataframe thead th {\n",
       "        text-align: right;\n",
       "    }\n",
       "</style>\n",
       "<table border=\"1\" class=\"dataframe\">\n",
       "  <thead>\n",
       "    <tr style=\"text-align: right;\">\n",
       "      <th></th>\n",
       "      <th>Criterion</th>\n",
       "      <th>Max_depth</th>\n",
       "      <th>Training R2</th>\n",
       "      <th>Test R2</th>\n",
       "      <th>Training RMSE</th>\n",
       "      <th>Test RMSE</th>\n",
       "    </tr>\n",
       "  </thead>\n",
       "  <tbody>\n",
       "    <tr>\n",
       "      <th>0</th>\n",
       "      <td>squared_error</td>\n",
       "      <td>NaN</td>\n",
       "      <td>1.000000</td>\n",
       "      <td>0.648793</td>\n",
       "      <td>0.000000</td>\n",
       "      <td>6873.332440</td>\n",
       "    </tr>\n",
       "    <tr>\n",
       "      <th>1</th>\n",
       "      <td>squared_error</td>\n",
       "      <td>9.0</td>\n",
       "      <td>0.962179</td>\n",
       "      <td>0.719763</td>\n",
       "      <td>2385.618018</td>\n",
       "      <td>6139.727399</td>\n",
       "    </tr>\n",
       "    <tr>\n",
       "      <th>2</th>\n",
       "      <td>squared_error</td>\n",
       "      <td>6.0</td>\n",
       "      <td>0.900290</td>\n",
       "      <td>0.790269</td>\n",
       "      <td>3873.491437</td>\n",
       "      <td>5311.497672</td>\n",
       "    </tr>\n",
       "    <tr>\n",
       "      <th>3</th>\n",
       "      <td>squared_error</td>\n",
       "      <td>3.0</td>\n",
       "      <td>0.860714</td>\n",
       "      <td>0.836862</td>\n",
       "      <td>4578.104656</td>\n",
       "      <td>4684.505601</td>\n",
       "    </tr>\n",
       "    <tr>\n",
       "      <th>4</th>\n",
       "      <td>squared_error</td>\n",
       "      <td>2.0</td>\n",
       "      <td>0.832431</td>\n",
       "      <td>0.805508</td>\n",
       "      <td>5021.460218</td>\n",
       "      <td>5114.896537</td>\n",
       "    </tr>\n",
       "    <tr>\n",
       "      <th>5</th>\n",
       "      <td>squared_error</td>\n",
       "      <td>1.0</td>\n",
       "      <td>0.635737</td>\n",
       "      <td>0.564990</td>\n",
       "      <td>7403.550165</td>\n",
       "      <td>7649.550036</td>\n",
       "    </tr>\n",
       "  </tbody>\n",
       "</table>\n",
       "</div>"
      ],
      "text/plain": [
       "       Criterion  Max_depth  Training R2   Test R2  Training RMSE    Test RMSE\n",
       "0  squared_error        NaN     1.000000  0.648793       0.000000  6873.332440\n",
       "1  squared_error        9.0     0.962179  0.719763    2385.618018  6139.727399\n",
       "2  squared_error        6.0     0.900290  0.790269    3873.491437  5311.497672\n",
       "3  squared_error        3.0     0.860714  0.836862    4578.104656  4684.505601\n",
       "4  squared_error        2.0     0.832431  0.805508    5021.460218  5114.896537\n",
       "5  squared_error        1.0     0.635737  0.564990    7403.550165  7649.550036"
      ]
     },
     "execution_count": 6,
     "metadata": {},
     "output_type": "execute_result"
    }
   ],
   "source": [
    "criterion = ['squared_error']\n",
    "max_depth = [None, 9, 6, 3, 2, 1]\n",
    "\n",
    "dt_results = dt_R2_RMSE(criterion, max_depth)\n",
    "dt_results"
   ]
  },
  {
   "cell_type": "markdown",
   "id": "f93b5f66",
   "metadata": {},
   "source": [
    "3 seems to be the optimal max depth because the training and test RMSE are fairly low while the R squared values are high but not yet showing signs of overfitting."
   ]
  },
  {
   "cell_type": "code",
   "execution_count": 7,
   "id": "59f20feb",
   "metadata": {
    "scrolled": true
   },
   "outputs": [
    {
     "data": {
      "text/html": [
       "<div>\n",
       "<style scoped>\n",
       "    .dataframe tbody tr th:only-of-type {\n",
       "        vertical-align: middle;\n",
       "    }\n",
       "\n",
       "    .dataframe tbody tr th {\n",
       "        vertical-align: top;\n",
       "    }\n",
       "\n",
       "    .dataframe thead th {\n",
       "        text-align: right;\n",
       "    }\n",
       "</style>\n",
       "<table border=\"1\" class=\"dataframe\">\n",
       "  <thead>\n",
       "    <tr style=\"text-align: right;\">\n",
       "      <th></th>\n",
       "      <th>Criterion</th>\n",
       "      <th>Max_depth</th>\n",
       "      <th>Training R2</th>\n",
       "      <th>Test R2</th>\n",
       "      <th>Training RMSE</th>\n",
       "      <th>Test RMSE</th>\n",
       "    </tr>\n",
       "  </thead>\n",
       "  <tbody>\n",
       "    <tr>\n",
       "      <th>0</th>\n",
       "      <td>squared_error</td>\n",
       "      <td>3</td>\n",
       "      <td>0.860714</td>\n",
       "      <td>0.836862</td>\n",
       "      <td>4578.104656</td>\n",
       "      <td>4684.505601</td>\n",
       "    </tr>\n",
       "    <tr>\n",
       "      <th>1</th>\n",
       "      <td>friedman_mse</td>\n",
       "      <td>3</td>\n",
       "      <td>0.860714</td>\n",
       "      <td>0.836862</td>\n",
       "      <td>4578.104656</td>\n",
       "      <td>4684.505601</td>\n",
       "    </tr>\n",
       "    <tr>\n",
       "      <th>2</th>\n",
       "      <td>absolute_error</td>\n",
       "      <td>3</td>\n",
       "      <td>0.847360</td>\n",
       "      <td>0.831217</td>\n",
       "      <td>4792.544650</td>\n",
       "      <td>4764.865460</td>\n",
       "    </tr>\n",
       "    <tr>\n",
       "      <th>3</th>\n",
       "      <td>poisson</td>\n",
       "      <td>3</td>\n",
       "      <td>0.663235</td>\n",
       "      <td>0.586406</td>\n",
       "      <td>7118.622571</td>\n",
       "      <td>7458.872129</td>\n",
       "    </tr>\n",
       "  </tbody>\n",
       "</table>\n",
       "</div>"
      ],
      "text/plain": [
       "        Criterion  Max_depth  Training R2   Test R2  Training RMSE  \\\n",
       "0   squared_error          3     0.860714  0.836862    4578.104656   \n",
       "1    friedman_mse          3     0.860714  0.836862    4578.104656   \n",
       "2  absolute_error          3     0.847360  0.831217    4792.544650   \n",
       "3         poisson          3     0.663235  0.586406    7118.622571   \n",
       "\n",
       "     Test RMSE  \n",
       "0  4684.505601  \n",
       "1  4684.505601  \n",
       "2  4764.865460  \n",
       "3  7458.872129  "
      ]
     },
     "execution_count": 7,
     "metadata": {},
     "output_type": "execute_result"
    }
   ],
   "source": [
    "criterion = ['squared_error','friedman_mse','absolute_error','poisson']\n",
    "max_depth = [3]\n",
    "\n",
    "dt_results1 = dt_R2_RMSE(criterion, max_depth)\n",
    "dt_results1"
   ]
  },
  {
   "cell_type": "markdown",
   "id": "d205f862",
   "metadata": {},
   "source": [
    "Either squared error or friedman mse seem to be the best fit.\n",
    "\n",
    "This model performs better than the previous best model, elastic net regression with alpha equal to 0.01 and L1 ratio equal to 0.75. The test R2 value is 0.86 and test RMSE is 4684.51."
   ]
  },
  {
   "cell_type": "markdown",
   "id": "bdb78646",
   "metadata": {},
   "source": [
    "### Random Forest Regressor"
   ]
  },
  {
   "cell_type": "code",
   "execution_count": 8,
   "id": "10230c71",
   "metadata": {},
   "outputs": [],
   "source": [
    "# Define a random forest function that can take different criterion and max_depth and output R squared and RMSE.\n",
    "def rf_R2_RMSE(n_estimators):\n",
    "    data = []\n",
    "    for n in n_estimators:\n",
    "        model = RandomForestRegressor(n_estimators=n, criterion='squared_error', max_depth=3, random_state=1)\n",
    "        model.fit(X_train, y_train)\n",
    "    \n",
    "        model_r2_train = model.score(X_train, y_train)\n",
    "        model_r2_test = model.score(X_test, y_test)\n",
    "    \n",
    "        model_y_pred_train = model.predict(X_train)\n",
    "        model_y_pred_test = model.predict(X_test)\n",
    "        model_RMSE_train = np.sqrt(mean_squared_error(y_train, model_y_pred_train))\n",
    "        model_RMSE_test = np.sqrt(mean_squared_error(y_test, model_y_pred_test))\n",
    "    \n",
    "        data.append([n, model_r2_train, model_r2_test, model_RMSE_train, model_RMSE_test])\n",
    "            \n",
    "    table = pd.DataFrame(data, columns = ['Estimators', 'Training R2', 'Test R2', 'Training RMSE', 'Test RMSE'])\n",
    "    \n",
    "    return table"
   ]
  },
  {
   "cell_type": "code",
   "execution_count": 10,
   "id": "168eb9d7",
   "metadata": {
    "scrolled": true
   },
   "outputs": [
    {
     "data": {
      "text/html": [
       "<div>\n",
       "<style scoped>\n",
       "    .dataframe tbody tr th:only-of-type {\n",
       "        vertical-align: middle;\n",
       "    }\n",
       "\n",
       "    .dataframe tbody tr th {\n",
       "        vertical-align: top;\n",
       "    }\n",
       "\n",
       "    .dataframe thead th {\n",
       "        text-align: right;\n",
       "    }\n",
       "</style>\n",
       "<table border=\"1\" class=\"dataframe\">\n",
       "  <thead>\n",
       "    <tr style=\"text-align: right;\">\n",
       "      <th></th>\n",
       "      <th>Estimators</th>\n",
       "      <th>Training R2</th>\n",
       "      <th>Test R2</th>\n",
       "      <th>Training RMSE</th>\n",
       "      <th>Test RMSE</th>\n",
       "    </tr>\n",
       "  </thead>\n",
       "  <tbody>\n",
       "    <tr>\n",
       "      <th>0</th>\n",
       "      <td>500</td>\n",
       "      <td>0.865829</td>\n",
       "      <td>0.845451</td>\n",
       "      <td>4493.268535</td>\n",
       "      <td>4559.522879</td>\n",
       "    </tr>\n",
       "    <tr>\n",
       "      <th>1</th>\n",
       "      <td>400</td>\n",
       "      <td>0.865880</td>\n",
       "      <td>0.845482</td>\n",
       "      <td>4492.417071</td>\n",
       "      <td>4559.057922</td>\n",
       "    </tr>\n",
       "    <tr>\n",
       "      <th>2</th>\n",
       "      <td>300</td>\n",
       "      <td>0.865862</td>\n",
       "      <td>0.845445</td>\n",
       "      <td>4492.712024</td>\n",
       "      <td>4559.612126</td>\n",
       "    </tr>\n",
       "    <tr>\n",
       "      <th>3</th>\n",
       "      <td>200</td>\n",
       "      <td>0.865887</td>\n",
       "      <td>0.845213</td>\n",
       "      <td>4492.297084</td>\n",
       "      <td>4563.033507</td>\n",
       "    </tr>\n",
       "    <tr>\n",
       "      <th>4</th>\n",
       "      <td>150</td>\n",
       "      <td>0.865860</td>\n",
       "      <td>0.844992</td>\n",
       "      <td>4492.736316</td>\n",
       "      <td>4566.285567</td>\n",
       "    </tr>\n",
       "    <tr>\n",
       "      <th>5</th>\n",
       "      <td>100</td>\n",
       "      <td>0.865805</td>\n",
       "      <td>0.844913</td>\n",
       "      <td>4493.660845</td>\n",
       "      <td>4567.443590</td>\n",
       "    </tr>\n",
       "    <tr>\n",
       "      <th>6</th>\n",
       "      <td>75</td>\n",
       "      <td>0.865781</td>\n",
       "      <td>0.845111</td>\n",
       "      <td>4494.062035</td>\n",
       "      <td>4564.527144</td>\n",
       "    </tr>\n",
       "    <tr>\n",
       "      <th>7</th>\n",
       "      <td>50</td>\n",
       "      <td>0.865727</td>\n",
       "      <td>0.844993</td>\n",
       "      <td>4494.970282</td>\n",
       "      <td>4566.272178</td>\n",
       "    </tr>\n",
       "    <tr>\n",
       "      <th>8</th>\n",
       "      <td>25</td>\n",
       "      <td>0.865401</td>\n",
       "      <td>0.844018</td>\n",
       "      <td>4500.430107</td>\n",
       "      <td>4580.610101</td>\n",
       "    </tr>\n",
       "  </tbody>\n",
       "</table>\n",
       "</div>"
      ],
      "text/plain": [
       "   Estimators  Training R2   Test R2  Training RMSE    Test RMSE\n",
       "0         500     0.865829  0.845451    4493.268535  4559.522879\n",
       "1         400     0.865880  0.845482    4492.417071  4559.057922\n",
       "2         300     0.865862  0.845445    4492.712024  4559.612126\n",
       "3         200     0.865887  0.845213    4492.297084  4563.033507\n",
       "4         150     0.865860  0.844992    4492.736316  4566.285567\n",
       "5         100     0.865805  0.844913    4493.660845  4567.443590\n",
       "6          75     0.865781  0.845111    4494.062035  4564.527144\n",
       "7          50     0.865727  0.844993    4494.970282  4566.272178\n",
       "8          25     0.865401  0.844018    4500.430107  4580.610101"
      ]
     },
     "execution_count": 10,
     "metadata": {},
     "output_type": "execute_result"
    }
   ],
   "source": [
    "n_estiamtors = [500, 400, 300, 200, 150, 100, 75, 50, 25]\n",
    "\n",
    "rf_results = rf_R2_RMSE(n_estiamtors)\n",
    "rf_results"
   ]
  },
  {
   "cell_type": "markdown",
   "id": "aba2a60f",
   "metadata": {},
   "source": [
    "A random forest with 400 estimators performs the best.\n",
    "\n",
    "This model performs better than the previous best model, decision tree with criterion equal to squared error and max depth of 3. The model also has less overfitting. The test R2 value is 0.84 and test RMSE is 4559.06."
   ]
  }
 ],
 "metadata": {
  "kernelspec": {
   "display_name": "Python 3",
   "language": "python",
   "name": "python3"
  },
  "language_info": {
   "codemirror_mode": {
    "name": "ipython",
    "version": 3
   },
   "file_extension": ".py",
   "mimetype": "text/x-python",
   "name": "python",
   "nbconvert_exporter": "python",
   "pygments_lexer": "ipython3",
   "version": "3.8.8"
  }
 },
 "nbformat": 4,
 "nbformat_minor": 5
}
